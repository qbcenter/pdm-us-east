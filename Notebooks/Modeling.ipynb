{
 "cells": [
  {
   "cell_type": "markdown",
   "metadata": {},
   "source": [
    "# 利用 Amazon SageMaker XGBoost 算法預測分類\n",
    "\n",
    "先設定參數。請使用自己的 S3 存貯體"
   ]
  },
  {
   "cell_type": "code",
   "execution_count": 1,
   "metadata": {},
   "outputs": [
    {
     "name": "stdout",
     "output_type": "stream",
     "text": [
      "Requirement already up-to-date: imblearn in /home/ec2-user/anaconda3/envs/python3/lib/python3.6/site-packages (0.0)\n",
      "Requirement not upgraded as not directly required: imbalanced-learn in /home/ec2-user/anaconda3/envs/python3/lib/python3.6/site-packages (from imblearn) (0.4.3)\n",
      "Requirement not upgraded as not directly required: scikit-learn>=0.20 in /home/ec2-user/anaconda3/envs/python3/lib/python3.6/site-packages (from imbalanced-learn->imblearn) (0.20.2)\n",
      "Requirement not upgraded as not directly required: scipy>=0.13.3 in /home/ec2-user/anaconda3/envs/python3/lib/python3.6/site-packages (from imbalanced-learn->imblearn) (1.1.0)\n",
      "Requirement not upgraded as not directly required: numpy>=1.8.2 in /home/ec2-user/anaconda3/envs/python3/lib/python3.6/site-packages (from imbalanced-learn->imblearn) (1.14.5)\n",
      "\u001b[33mYou are using pip version 10.0.1, however version 18.1 is available.\n",
      "You should consider upgrading via the 'pip install --upgrade pip' command.\u001b[0m\n"
     ]
    }
   ],
   "source": [
    "!pip install -U imblearn"
   ]
  },
  {
   "cell_type": "code",
   "execution_count": 2,
   "metadata": {
    "isConfigCell": true
   },
   "outputs": [
    {
     "name": "stdout",
     "output_type": "stream",
     "text": [
      "CPU times: user 760 ms, sys: 178 ms, total: 939 ms\n",
      "Wall time: 889 ms\n"
     ]
    }
   ],
   "source": [
    "%%time\n",
    "\n",
    "import os\n",
    "import boto3\n",
    "import re\n",
    "from sagemaker import get_execution_role\n",
    "\n",
    "role = get_execution_role()\n",
    "region = boto3.Session().region_name\n",
    "\n",
    "bucket='pdm-sagemaker-dac43ec6047111e995b9d4619d3b01d6' # put your s3 bucket name here, and create s3 bucket\n",
    "prefix = 'model'\n",
    "# customize to your bucket where you have stored the data\n",
    "bucket_path = 'https://s3.{}.amazonaws.com/{}'.format(region, bucket)"
   ]
  },
  {
   "cell_type": "markdown",
   "metadata": {},
   "source": [
    "### 獲取資料集\n",
    "\n",
    "下列方法將分割資料集為訓練/驗證/測試資料集，並上傳檔案至 S3"
   ]
  },
  {
   "cell_type": "code",
   "execution_count": 10,
   "metadata": {},
   "outputs": [
    {
     "name": "stdout",
     "output_type": "stream",
     "text": [
      "CPU times: user 11 µs, sys: 1 µs, total: 12 µs\n",
      "Wall time: 15.3 µs\n"
     ]
    }
   ],
   "source": [
    "%%time\n",
    "\n",
    "import io\n",
    "import boto3\n",
    "import random\n",
    "\n",
    "def write_to_s3(fobj, bucket, key):\n",
    "    return boto3.Session().resource('s3').Bucket(bucket).Object(key).upload_fileobj(fobj)\n",
    "\n",
    "def upload_to_s3(bucket, channel, filename):\n",
    "    fobj=open(filename, 'rb')\n",
    "    key = prefix+'/'+channel\n",
    "    url = 's3://{}/{}/{}'.format(bucket, key, filename)\n",
    "    print('Writing to {}'.format(url))\n",
    "    write_to_s3(fobj, bucket, key)"
   ]
  },
  {
   "cell_type": "markdown",
   "metadata": {},
   "source": [
    "### 資料分割\n",
    "\n",
    "兩種分割策略：\n",
    "* 根據時間\n",
    "* 根據機台 ID\n",
    "\n",
    "根據時間分割較為複雜，因為訓練與測試資料集間，不能有重疊時間所計算的特徵。若 $X$ 為「特徵工程時使用的滾動窗的長度 - 1」的數值 ，測試/驗證資料集的序列中，時間剛好在 $X$ 之前的部分需要移除。"
   ]
  },
  {
   "cell_type": "code",
   "execution_count": 20,
   "metadata": {},
   "outputs": [],
   "source": [
    "files = boto3.Session().resource('s3').Bucket(bucket).objects.all()"
   ]
  },
  {
   "cell_type": "code",
   "execution_count": 43,
   "metadata": {},
   "outputs": [
    {
     "name": "stdout",
     "output_type": "stream",
     "text": [
      "CPU times: user 761 ms, sys: 16 ms, total: 777 ms\n",
      "Wall time: 2.41 s\n"
     ]
    }
   ],
   "source": [
    "%%time\n",
    "import pandas as pd\n",
    "\n",
    "# Load the dataset\n",
    "FILE_DATA = 'telemetry'\n",
    "converters={\"failure\": str}\n",
    "dfs= [pd.read_csv('s3a://{}/{}'.format(bucket, file_info.key), converters=converters) \\\n",
    "      for file_info in files if file_info.key.endswith('.csv') and not file_info.key.endswith('prediction-feature.csv')]\n",
    "data = pd.concat(dfs, ignore_index=True).fillna('')\n",
    "\n",
    "# split the downloaded data into train/test/validation files\n",
    "FILE_TRAIN = '{}.train'.format(FILE_DATA)\n",
    "FILE_VALIDATION = '{}.validation'.format(FILE_DATA)\n",
    "FILE_TEST = '{}.test'.format(FILE_DATA)"
   ]
  },
  {
   "cell_type": "code",
   "execution_count": 6,
   "metadata": {},
   "outputs": [],
   "source": [
    "from sklearn.model_selection import train_test_split\n",
    "lookback = 5       # rolling aggregation interval used during feature engineering\n",
    "val_size = 0.2\n",
    "test_size = 0.2\n",
    "time_split = True  # if set to False, will perform asset ID-based split\n",
    "seed=42\n",
    "\n",
    "if time_split:\n",
    "    data.set_index(['entryID'], inplace=True)\n",
    "    data.sort_index(inplace=True)\n",
    "    \n",
    "    train, test = train_test_split(data, test_size=test_size, shuffle=False)\n",
    "    train, val = train_test_split(train, test_size=val_size/(1-test_size), shuffle=False)\n",
    "    \n",
    "    min_cycles = val.reset_index().groupby(['machineID'])\\\n",
    "                .cycle.min().apply(lambda x: x - lookback).to_frame(name='max_cycle')\n",
    "    \n",
    "    t = train.reset_index().join(min_cycles, on='machineID')\n",
    "    train = t[t.max_cycle.isna() |\n",
    "              (t.cycle < t.max_cycle)].drop('max_cycle', axis=1)\n",
    "    train.set_index(['entryID'], inplace=True)\n",
    "else:\n",
    "    # asset ID-based split\n",
    "    unique_assets = data.reset_index().machineID.unique()\n",
    "    train_assets, test_assets = train_test_split(\n",
    "        unique_assets, test_size=test_size, random_state=seed)\n",
    "    train_assets, val_assets = train_test_split(\n",
    "        train_assets, test_size=val_size/(1-test_size), random_state=seed)\n",
    "    train = data[data.machineID.isin(train_assets)]\n",
    "    val = data[data.machineID.isin(val_assets)]\n",
    "    test = data[data.machineID.isin(test_assets)]\n",
    "    train.set_index(['entryID'], inplace=True)\n",
    "    val.set_index(['entryID'], inplace=True)\n",
    "    test.set_index(['entryID'], inplace=True)\n",
    "\n"
   ]
  },
  {
   "cell_type": "code",
   "execution_count": 7,
   "metadata": {},
   "outputs": [
    {
     "name": "stdout",
     "output_type": "stream",
     "text": [
      "Writing to s3://pdm-sagemaker-dac43ec6047111e995b9d4619d3b01d6/model/train/telemetry.train\n",
      "Writing to s3://pdm-sagemaker-dac43ec6047111e995b9d4619d3b01d6/model/validation/telemetry.validation\n",
      "Writing to s3://pdm-sagemaker-dac43ec6047111e995b9d4619d3b01d6/model/test/telemetry.test\n"
     ]
    }
   ],
   "source": [
    "from sklearn.datasets import dump_svmlight_file\n",
    "def name_to_class(x):\n",
    "    return {\n",
    "        '': 0,\n",
    "        'F1': 1,\n",
    "        'F2': 2.\n",
    "    }[x]\n",
    "\n",
    "def data_split(df, output_filename):\n",
    "    df = df.reset_index(drop = True)\n",
    "    columns_to_drop = ['cycle', 'immediate_failure', 'rul', 'sequenceID', 'machineID']\n",
    "    \n",
    "    # y is label\n",
    "    y = df['immediate_failure'].apply(name_to_class) \n",
    "    dummy = pd.get_dummies(df.drop(columns_to_drop, axis=1))\n",
    "    mat = dummy.as_matrix()\n",
    "    dump_svmlight_file(mat, y, output_filename)\n",
    "\n",
    "    return (df.drop(columns_to_drop, axis=1),\n",
    "            df['immediate_failure'].values)\n",
    "\n",
    "X_train, Y_train = data_split(train, FILE_TRAIN)\n",
    "X_val, Y_val = data_split(val, FILE_VALIDATION)\n",
    "X_test, Y_test = data_split(test, FILE_TEST)\n",
    "\n",
    "\n",
    "#upload the files to the S3 bucket\n",
    "upload_to_s3(bucket, 'train', FILE_TRAIN)\n",
    "upload_to_s3(bucket, 'validation', FILE_VALIDATION)\n",
    "upload_to_s3(bucket, 'test', FILE_TEST)"
   ]
  },
  {
   "cell_type": "markdown",
   "metadata": {},
   "source": [
    "### 修正資料不平衡問題"
   ]
  },
  {
   "cell_type": "code",
   "execution_count": 8,
   "metadata": {},
   "outputs": [
    {
     "name": "stdout",
     "output_type": "stream",
     "text": [
      "Majority class:  [('', 34468)]\n",
      "Minority classes:  [('F1', 396), ('F2', 186)]\n"
     ]
    }
   ],
   "source": [
    "from collections import Counter\n",
    "all_classes = Counter(Y_train)\n",
    "majority_class = all_classes.most_common(1)\n",
    "minority_classes = all_classes.most_common()[1:]\n",
    "\n",
    "print('Majority class: ', majority_class)\n",
    "print('Minority classes: ', minority_classes)"
   ]
  },
  {
   "cell_type": "markdown",
   "metadata": {},
   "source": [
    "\n",
    "With class imbalance in data, performance of most standard learning algorithms is compromised, since they aim to minimize the overall error rate. For a data set with 99% negative and 1% positive examples, a model can be shown to have 99% accuracy by labeling all instances as negative. But the model will mis-classify all positive examples; so even if its accuracy is high, the algorithm is not a useful one.\n",
    "\n",
    "Here, we will use the Synthetic Minority Over-sampling Technique (SMOTE) [[3]](#ref_3) to produce a more balanced training data set with at least 10% of positive examples. Note that over-sampling is not applied to the test data set."
   ]
  },
  {
   "cell_type": "code",
   "execution_count": 9,
   "metadata": {},
   "outputs": [
    {
     "data": {
      "text/plain": [
       "Counter({'': 34468, 'F1': 2384, 'F2': 1120})"
      ]
     },
     "execution_count": 9,
     "metadata": {},
     "output_type": "execute_result"
    }
   ],
   "source": [
    "from imblearn.over_sampling import SMOTE\n",
    "\n",
    "minority_classes_size = sum([c[1] for c in minority_classes])\n",
    "desired_minority_classes_size = Y_train.shape[0] * 0.1\n",
    "\n",
    "scale = desired_minority_classes_size / minority_classes_size\n",
    "\n",
    "ratio = None\n",
    "if scale > 1:\n",
    "    ratio = dict((c[0], int(c[1] * scale)) for c in minority_classes)\n",
    "\n",
    "sm = SMOTE(ratio=ratio, random_state=seed)\n",
    "X_train_res, Y_train_res = sm.fit_sample(X_train, Y_train)\n",
    "Counter(Y_train_res)"
   ]
  },
  {
   "cell_type": "code",
   "execution_count": 11,
   "metadata": {},
   "outputs": [
    {
     "name": "stdout",
     "output_type": "stream",
     "text": [
      "Writing to s3://pdm-sagemaker-dac43ec6047111e995b9d4619d3b01d6/model/train/telemetry.train\n"
     ]
    }
   ],
   "source": [
    "Y_train_res_ = [name_to_class(x) for x in Y_train_res] \n",
    "dump_svmlight_file(X_train_res, Y_train_res_, FILE_TRAIN)\n",
    "upload_to_s3(bucket, 'train', FILE_TRAIN)"
   ]
  },
  {
   "cell_type": "markdown",
   "metadata": {},
   "source": [
    "## 訓練 XGBoost 模型"
   ]
  },
  {
   "cell_type": "code",
   "execution_count": 12,
   "metadata": {},
   "outputs": [],
   "source": [
    "from sagemaker.amazon.amazon_estimator import get_image_uri\n",
    "container = get_image_uri(boto3.Session().region_name, 'xgboost')"
   ]
  },
  {
   "cell_type": "code",
   "execution_count": 13,
   "metadata": {},
   "outputs": [
    {
     "name": "stdout",
     "output_type": "stream",
     "text": [
      "Training job DEMO-xgboost-regression-2018-12-20-20-21-43\n",
      "InProgress\n",
      "InProgress\n",
      "InProgress\n",
      "Completed\n",
      "CPU times: user 87.2 ms, sys: 11.8 ms, total: 99 ms\n",
      "Wall time: 3min\n"
     ]
    }
   ],
   "source": [
    "%%time\n",
    "import boto3\n",
    "from time import gmtime, strftime\n",
    "\n",
    "job_name = 'DEMO-xgboost-regression-' + strftime(\"%Y-%m-%d-%H-%M-%S\", gmtime())\n",
    "print(\"Training job\", job_name)\n",
    "\n",
    "#Ensure that the training and validation data folders generated above are reflected in the \"InputDataConfig\" parameter below.\n",
    "\n",
    "create_training_params = \\\n",
    "{\n",
    "    \"AlgorithmSpecification\": {\n",
    "        \"TrainingImage\": container,\n",
    "        \"TrainingInputMode\": \"File\"\n",
    "    },\n",
    "    \"RoleArn\": role,\n",
    "    \"OutputDataConfig\": {\n",
    "        \"S3OutputPath\": bucket_path + \"/\" + prefix + \"/single-xgboost\"\n",
    "    },\n",
    "    \"ResourceConfig\": {\n",
    "        \"InstanceCount\": 1,\n",
    "        \"InstanceType\": \"ml.m4.4xlarge\",\n",
    "        \"VolumeSizeInGB\": 5\n",
    "    },\n",
    "    \"TrainingJobName\": job_name,\n",
    "    \"HyperParameters\": {\n",
    "        \"max_depth\":\"5\",\n",
    "        \"eta\":\"0.2\",\n",
    "        \"gamma\":\"4\",\n",
    "        \"objective\":\"multi:softmax\",\n",
    "        \"num_class\":\"3\",\n",
    "        \"num_round\":\"50\"\n",
    "    },\n",
    "    \"StoppingCondition\": {\n",
    "        \"MaxRuntimeInSeconds\": 3600\n",
    "    },\n",
    "    \"InputDataConfig\": [\n",
    "        {\n",
    "            \"ChannelName\": \"train\",\n",
    "            \"DataSource\": {\n",
    "                \"S3DataSource\": {\n",
    "                    \"S3DataType\": \"S3Prefix\",\n",
    "                    \"S3Uri\": bucket_path + \"/\" + prefix + '/train',\n",
    "                    \"S3DataDistributionType\": \"FullyReplicated\"\n",
    "                }\n",
    "            },\n",
    "            \"ContentType\": \"libsvm\",\n",
    "            \"CompressionType\": \"None\"\n",
    "        },\n",
    "        {\n",
    "            \"ChannelName\": \"validation\",\n",
    "            \"DataSource\": {\n",
    "                \"S3DataSource\": {\n",
    "                    \"S3DataType\": \"S3Prefix\",\n",
    "                    \"S3Uri\": bucket_path + \"/\" + prefix + '/validation',\n",
    "                    \"S3DataDistributionType\": \"FullyReplicated\"\n",
    "                }\n",
    "            },\n",
    "            \"ContentType\": \"libsvm\",\n",
    "            \"CompressionType\": \"None\"\n",
    "        }\n",
    "    ]\n",
    "}\n",
    "\n",
    "\n",
    "client = boto3.client('sagemaker')\n",
    "client.create_training_job(**create_training_params)\n",
    "\n",
    "import time\n",
    "\n",
    "status = client.describe_training_job(TrainingJobName=job_name)['TrainingJobStatus']\n",
    "print(status)\n",
    "while status !='Completed' and status!='Failed':\n",
    "    time.sleep(60)\n",
    "    status = client.describe_training_job(TrainingJobName=job_name)['TrainingJobStatus']\n",
    "    print(status)"
   ]
  },
  {
   "cell_type": "markdown",
   "metadata": {},
   "source": [
    "## 模型評估\n",
    "\n",
    "### 繪製評估指標：混淆矩阵, 精確度 召回率及 F1 score"
   ]
  },
  {
   "cell_type": "code",
   "execution_count": 15,
   "metadata": {
    "scrolled": true
   },
   "outputs": [
    {
     "data": {
      "text/html": [
       "<div>\n",
       "<style scoped>\n",
       "    .dataframe tbody tr th:only-of-type {\n",
       "        vertical-align: middle;\n",
       "    }\n",
       "\n",
       "    .dataframe tbody tr th {\n",
       "        vertical-align: top;\n",
       "    }\n",
       "\n",
       "    .dataframe thead th {\n",
       "        text-align: right;\n",
       "    }\n",
       "</style>\n",
       "<table border=\"1\" class=\"dataframe\">\n",
       "  <thead>\n",
       "    <tr style=\"text-align: right;\">\n",
       "      <th></th>\n",
       "      <th>metric_name</th>\n",
       "      <th>timestamp</th>\n",
       "      <th>value</th>\n",
       "    </tr>\n",
       "  </thead>\n",
       "  <tbody>\n",
       "    <tr>\n",
       "      <th>0</th>\n",
       "      <td>validation:merror</td>\n",
       "      <td>0.0</td>\n",
       "      <td>0.007764</td>\n",
       "    </tr>\n",
       "  </tbody>\n",
       "</table>\n",
       "</div>"
      ],
      "text/plain": [
       "         metric_name  timestamp     value\n",
       "0  validation:merror        0.0  0.007764"
      ]
     },
     "execution_count": 15,
     "metadata": {},
     "output_type": "execute_result"
    }
   ],
   "source": [
    "from sagemaker.analytics import TrainingJobAnalytics\n",
    "\n",
    "metric_name = 'validation:merror'\n",
    "TrainingJobAnalytics(training_job_name=job_name, metric_names=[metric_name]).dataframe()"
   ]
  },
  {
   "cell_type": "markdown",
   "metadata": {},
   "source": [
    "Download model from S3 for local evaluation\n",
    "從 S3 下載訓練好的模型以在1p32u42j0 qu/6"
   ]
  },
  {
   "cell_type": "code",
   "execution_count": 262,
   "metadata": {},
   "outputs": [
    {
     "name": "stdout",
     "output_type": "stream",
     "text": [
      "xgboost-model\r\n"
     ]
    }
   ],
   "source": [
    "model_key = '{}/single-xgboost/{}/output/model.tar.gz'.format(prefix,job_name)\n",
    "boto3.Session().resource('s3').Bucket(bucket).download_file(model_key, 'model.tar.gz')\n",
    "!tar -zxvf model.tar.gz"
   ]
  },
  {
   "cell_type": "code",
   "execution_count": 263,
   "metadata": {},
   "outputs": [
    {
     "name": "stdout",
     "output_type": "stream",
     "text": [
      "Requirement already satisfied: xgboost in /home/ec2-user/anaconda3/envs/python3/lib/python3.6/site-packages (0.81)\n",
      "Requirement already satisfied: numpy in /home/ec2-user/anaconda3/envs/python3/lib/python3.6/site-packages (from xgboost) (1.14.5)\n",
      "Requirement already satisfied: scipy in /home/ec2-user/anaconda3/envs/python3/lib/python3.6/site-packages (from xgboost) (1.1.0)\n",
      "\u001b[33mYou are using pip version 10.0.1, however version 18.1 is available.\n",
      "You should consider upgrading via the 'pip install --upgrade pip' command.\u001b[0m\n"
     ]
    }
   ],
   "source": [
    "!pip install xgboost"
   ]
  },
  {
   "cell_type": "code",
   "execution_count": 264,
   "metadata": {},
   "outputs": [],
   "source": [
    "model_file_path = 'xgboost-model'"
   ]
  },
  {
   "cell_type": "code",
   "execution_count": 22,
   "metadata": {},
   "outputs": [
    {
     "name": "stdout",
     "output_type": "stream",
     "text": [
      "[20:43:00] 13266x10 matrix with 132660 entries loaded from telemetry.validation\n"
     ]
    }
   ],
   "source": [
    "import pickle as pkl\n",
    "import xgboost\n",
    "import numpy as np\n",
    "clf = pkl.load(open(model_file_path, 'rb'))\n",
    "\n",
    "Y_val_ = np.array([name_to_class(x) for x in Y_val])\n",
    "\n",
    "dval = xgboost.DMatrix(FILE_VALIDATION)\n",
    "Y_val_predictions_ = clf.predict(dval)"
   ]
  },
  {
   "cell_type": "code",
   "execution_count": 23,
   "metadata": {},
   "outputs": [],
   "source": [
    "def class_to_name(x):\n",
    "    return {\n",
    "        0: '',\n",
    "        1: 'F1',\n",
    "        2: 'F2',\n",
    "    }[x]\n",
    "\n",
    "Y_val_predictions = [class_to_name(x) for x in Y_val_predictions_]"
   ]
  },
  {
   "cell_type": "code",
   "execution_count": 24,
   "metadata": {},
   "outputs": [
    {
     "data": {
      "image/png": "[encoded data removed]",
      "text/plain": [
       "<Figure size 432x288 with 2 Axes>"
      ]
     },
     "metadata": {},
     "output_type": "display_data"
    }
   ],
   "source": [
    "%matplotlib inline\n",
    "import itertools\n",
    "import matplotlib.pyplot as plt\n",
    "from sklearn.metrics import confusion_matrix, accuracy_score, roc_auc_score, classification_report\n",
    "\n",
    "def plot_confusion_matrix(cm, classes,\n",
    "                          title='Confusion matrix',\n",
    "                          cmap=plt.cm.Blues):\n",
    "    orig = cm\n",
    "    cm = cm.astype('float') / cm.sum(axis=1)[:, np.newaxis]\n",
    "\n",
    "    plt.imshow(cm, interpolation='nearest', cmap=cmap)\n",
    "    plt.title(title)\n",
    "    plt.colorbar()\n",
    "    tick_marks = np.arange(len(classes))\n",
    "    plt.xticks(tick_marks, classes, rotation=45)\n",
    "    plt.yticks(tick_marks, classes)\n",
    "\n",
    "    fmt = '.2f'\n",
    "    thresh = cm.max() / 2.\n",
    "    for i, j in itertools.product(range(cm.shape[0]), range(cm.shape[1])):\n",
    "        plt.text(j, i, format(cm[i, j], fmt) + '\\n({0})'.format(orig[i, j]),\n",
    "                 horizontalalignment=\"center\",\n",
    "                 color=\"white\" if cm[i, j] > thresh else \"black\")\n",
    "\n",
    "    plt.tight_layout()\n",
    "    plt.ylabel('True label')\n",
    "    plt.xlabel('Predicted label')\n",
    "\n",
    "#cm = confusion_matrix(Y_test, binarizer.inverse_transform(Y_predictions))\n",
    "cm = confusion_matrix(Y_val, Y_val_predictions)\n",
    "plot_confusion_matrix(cm, ['None'] + [c[0] for c in minority_classes])"
   ]
  },
  {
   "cell_type": "markdown",
   "metadata": {},
   "source": [
    "對二元分類任務，多數分類器的效能指標能直接從標準的 2x2 的混淆矩陣得到\n",
    "\n",
    "$$\n",
    "\\begin{matrix} \n",
    " & 預測=負 & 預測=正 \\\\\n",
    "實際=負 & \\scriptsize True\\ 負\\ (TN) & \\scriptsize False\\ 正 (FP) \\\\\n",
    "實際=正 & \\scriptsize False\\ 負\\ (FN) & \\scriptsize True\\ 正\\ (TP) \n",
    "\\end{matrix}\n",
    "$$ \n",
    "\n",
    "\n",
    "這裡提供常用的模型效能測量指標定義\n",
    "\n",
    "| 指標 | 公式 |\n",
    "|:--- |------|\n",
    "| 精準度 |   $\\frac{TP}{TP+FP}$  |\n",
    "| 召回率 | $\\frac{TP}{TP+FN}$ |\n",
    "| F1 score | $2 \\frac{精準度 \\cdot 召回率}{精準度+召回率}$ |\n",
    "\n",
    "在多元分類問題，每個標註都會獨立計算以上指標，並以所有的類別做平均（如下所示）"
   ]
  },
  {
   "cell_type": "code",
   "execution_count": 25,
   "metadata": {},
   "outputs": [
    {
     "name": "stdout",
     "output_type": "stream",
     "text": [
      "              precision    recall  f1-score   support\n",
      "\n",
      "                 0.9979    0.9940    0.9959     12728\n",
      "          F1     0.8884    0.9582    0.9220       407\n",
      "          F2     0.8176    0.9237    0.8674       131\n",
      "\n",
      "   micro avg     0.9922    0.9922    0.9922     13266\n",
      "   macro avg     0.9013    0.9586    0.9284     13266\n",
      "weighted avg     0.9927    0.9922    0.9924     13266\n",
      "\n"
     ]
    }
   ],
   "source": [
    "print(classification_report(Y_val, Y_val_predictions, digits=4))"
   ]
  },
  {
   "cell_type": "markdown",
   "metadata": {},
   "source": [
    "註: ```classification_report``` 函數計算平均時有將樣本分佈不平均考慮進去，因此會傾向往多樣本的類別偏移\n",
    "\n",
    "### 準確率\n",
    "\n",
    "一般而言，**準確率 (accuracy)** 對樣本分佈不平均的問題而言不是一個恰當的指標。以下範例展示，與每次都回傳最頻繁的出現的類別的 dummy 分類器比較："
   ]
  },
  {
   "cell_type": "code",
   "execution_count": 26,
   "metadata": {},
   "outputs": [
    {
     "name": "stdout",
     "output_type": "stream",
     "text": [
      "Accuracy scores\n",
      "Trained model: 0.9922357907432534\n",
      "Dummy classifier: 0.9594451982511684\n"
     ]
    }
   ],
   "source": [
    "from sklearn.dummy import DummyClassifier\n",
    "dummy = DummyClassifier(strategy='most_frequent')\n",
    "dummy.fit(X_train_res, Y_train_res)\n",
    "Y_dummy = dummy.predict(X_val)\n",
    "\n",
    "print('Accuracy scores')\n",
    "print('Trained model: {0}\\nDummy classifier: {1}'.format(accuracy_score(Y_val, Y_val_predictions),\n",
    "                                                         accuracy_score(Y_val, Y_dummy)))"
   ]
  },
  {
   "cell_type": "markdown",
   "metadata": {},
   "source": [
    "訓練模型只比 dummy 分類器好一些些\n",
    "\n",
    "### 曲線下面積 (AUC)\n",
    "\n",
    "AUC 是*接收者操作特徵曲線*下的面積 (ROC 曲線)。AUC=1.0 表示完美的分類器，而 AUC=0.5表示該分類器與隨機猜選的效能一樣"
   ]
  },
  {
   "cell_type": "code",
   "execution_count": 27,
   "metadata": {},
   "outputs": [
    {
     "name": "stdout",
     "output_type": "stream",
     "text": [
      "ROC AUC scores\n",
      "Trained model: 0.9699786636659544\n",
      "Dummy classifier: 0.5\n"
     ]
    }
   ],
   "source": [
    "from sklearn.preprocessing import LabelBinarizer\n",
    "# roc_auc_score expects binarized labels\n",
    "binarizer = LabelBinarizer()\n",
    "binarizer.fit(Y_train_res)\n",
    "\n",
    "def auc_score(y_true, y_pred):\n",
    "    return roc_auc_score(binarizer.transform(y_true), binarizer.transform(y_pred), average='macro')\n",
    "\n",
    "print('ROC AUC scores')\n",
    "print('Trained model: {0}\\nDummy classifier: {1}'.format(auc_score(Y_val, Y_val_predictions),\n",
    "                                                         auc_score(Y_val, Y_dummy)))"
   ]
  },
  {
   "cell_type": "markdown",
   "metadata": {},
   "source": [
    "## 部署模型\n",
    "\n",
    "### 將模型輸入到託管服務"
   ]
  },
  {
   "cell_type": "code",
   "execution_count": 28,
   "metadata": {},
   "outputs": [
    {
     "name": "stdout",
     "output_type": "stream",
     "text": [
      "DEMO-xgboost-regression-2018-12-20-20-21-43-model\n",
      "https://s3.us-east-2.amazonaws.com/pdm-sagemaker-dac43ec6047111e995b9d4619d3b01d6/model/single-xgboost/DEMO-xgboost-regression-2018-12-20-20-21-43/output/model.tar.gz\n",
      "arn:aws:sagemaker:us-east-2:648352515148:model/demo-xgboost-regression-2018-12-20-20-21-43-model\n",
      "CPU times: user 17.2 ms, sys: 3.83 ms, total: 21 ms\n",
      "Wall time: 336 ms\n"
     ]
    }
   ],
   "source": [
    "%%time\n",
    "import boto3\n",
    "from time import gmtime, strftime\n",
    "\n",
    "model_name=job_name + '-model'\n",
    "print(model_name)\n",
    "\n",
    "info = client.describe_training_job(TrainingJobName=job_name)\n",
    "model_data = info['ModelArtifacts']['S3ModelArtifacts']\n",
    "print(model_data)\n",
    "\n",
    "primary_container = {\n",
    "    'Image': container,\n",
    "    'ModelDataUrl': model_data\n",
    "}\n",
    "\n",
    "create_model_response = client.create_model(\n",
    "    ModelName = model_name,\n",
    "    ExecutionRoleArn = role,\n",
    "    PrimaryContainer = primary_container)\n",
    "\n",
    "print(create_model_response['ModelArn'])"
   ]
  },
  {
   "cell_type": "markdown",
   "metadata": {},
   "source": [
    "### 建立端點配置"
   ]
  },
  {
   "cell_type": "code",
   "execution_count": 29,
   "metadata": {},
   "outputs": [
    {
     "name": "stdout",
     "output_type": "stream",
     "text": [
      "DEMO-XGBoostEndpointConfig-2018-12-20-21-01-42\n",
      "Endpoint Config Arn: arn:aws:sagemaker:us-east-2:648352515148:endpoint-config/demo-xgboostendpointconfig-2018-12-20-21-01-42\n"
     ]
    }
   ],
   "source": [
    "from time import gmtime, strftime\n",
    "\n",
    "endpoint_config_name = 'DEMO-XGBoostEndpointConfig-' + strftime(\"%Y-%m-%d-%H-%M-%S\", gmtime())\n",
    "print(endpoint_config_name)\n",
    "create_endpoint_config_response = client.create_endpoint_config(\n",
    "    EndpointConfigName = endpoint_config_name,\n",
    "    ProductionVariants=[{\n",
    "        'InstanceType':'ml.m4.xlarge',\n",
    "        'InitialVariantWeight':1,\n",
    "        'InitialInstanceCount':1,\n",
    "        'ModelName':model_name,\n",
    "        'VariantName':'AllTraffic'}])\n",
    "\n",
    "print(\"Endpoint Config Arn: \" + create_endpoint_config_response['EndpointConfigArn'])"
   ]
  },
  {
   "cell_type": "markdown",
   "metadata": {},
   "source": [
    "### 建立端點"
   ]
  },
  {
   "cell_type": "code",
   "execution_count": 30,
   "metadata": {
    "scrolled": true
   },
   "outputs": [
    {
     "name": "stdout",
     "output_type": "stream",
     "text": [
      "DEMO-XGBoostEndpoint-2018-12-20-21-01-56\n",
      "arn:aws:sagemaker:us-east-2:648352515148:endpoint/demo-xgboostendpoint-2018-12-20-21-01-56\n",
      "Status: Creating\n",
      "Status: Creating\n",
      "Status: Creating\n",
      "Status: Creating\n",
      "Status: Creating\n",
      "Status: Creating\n",
      "Status: Creating\n",
      "Status: InService\n",
      "Arn: arn:aws:sagemaker:us-east-2:648352515148:endpoint/demo-xgboostendpoint-2018-12-20-21-01-56\n",
      "Status: InService\n",
      "CPU times: user 116 ms, sys: 6.41 ms, total: 122 ms\n",
      "Wall time: 7min 1s\n"
     ]
    }
   ],
   "source": [
    "%%time\n",
    "import time\n",
    "\n",
    "endpoint_name = 'DEMO-XGBoostEndpoint-' + strftime(\"%Y-%m-%d-%H-%M-%S\", gmtime())\n",
    "print(endpoint_name)\n",
    "create_endpoint_response = client.create_endpoint(\n",
    "    EndpointName=endpoint_name,\n",
    "    EndpointConfigName=endpoint_config_name)\n",
    "print(create_endpoint_response['EndpointArn'])\n",
    "\n",
    "resp = client.describe_endpoint(EndpointName=endpoint_name)\n",
    "status = resp['EndpointStatus']\n",
    "print(\"Status: \" + status)\n",
    "\n",
    "while status=='Creating':\n",
    "    time.sleep(60)\n",
    "    resp = client.describe_endpoint(EndpointName=endpoint_name)\n",
    "    status = resp['EndpointStatus']\n",
    "    print(\"Status: \" + status)\n",
    "\n",
    "print(\"Arn: \" + resp['EndpointArn'])\n",
    "print(\"Status: \" + status)"
   ]
  },
  {
   "cell_type": "markdown",
   "metadata": {},
   "source": [
    "## 驗證模型正在服務中"
   ]
  },
  {
   "cell_type": "code",
   "execution_count": 31,
   "metadata": {},
   "outputs": [],
   "source": [
    "runtime_client = boto3.client('runtime.sagemaker')"
   ]
  },
  {
   "cell_type": "markdown",
   "metadata": {},
   "source": [
    "以單一筆資料做測試"
   ]
  },
  {
   "cell_type": "code",
   "execution_count": 32,
   "metadata": {},
   "outputs": [],
   "source": [
    "!head -1 telemetry.test > telemetry.single.test"
   ]
  },
  {
   "cell_type": "code",
   "execution_count": 33,
   "metadata": {},
   "outputs": [
    {
     "name": "stdout",
     "output_type": "stream",
     "text": [
      "Label:  0 \n",
      "Prediction:  0\n",
      "CPU times: user 13.9 ms, sys: 0 ns, total: 13.9 ms\n",
      "Wall time: 204 ms\n"
     ]
    }
   ],
   "source": [
    "%%time\n",
    "import json\n",
    "from itertools import islice\n",
    "import math\n",
    "import struct\n",
    "\n",
    "file_name = 'telemetry.single.test' #customize to your test file\n",
    "with open(file_name, 'r') as f:\n",
    "    payload = f.read().strip()\n",
    "response = runtime_client.invoke_endpoint(EndpointName=endpoint_name, \n",
    "                                   ContentType='text/x-libsvm', \n",
    "                                   Body=payload)\n",
    "result = response['Body'].read()\n",
    "result = result.decode(\"utf-8\")\n",
    "result = result.split(',')\n",
    "result = [math.ceil(float(i)) for i in result]\n",
    "label = payload.strip(' ').split()[0]\n",
    "print ('Label: ',label,'\\nPrediction: ', result[0])"
   ]
  },
  {
   "cell_type": "markdown",
   "metadata": {},
   "source": [
    "做批次測試，以及計算整體準確度"
   ]
  },
  {
   "cell_type": "code",
   "execution_count": 34,
   "metadata": {},
   "outputs": [],
   "source": [
    "import sys\n",
    "import math\n",
    "def do_predict(data, endpoint_name, content_type):\n",
    "    payload = '\\n'.join(data)\n",
    "    response = runtime_client.invoke_endpoint(EndpointName=endpoint_name, \n",
    "                                   ContentType=content_type, \n",
    "                                   Body=payload)\n",
    "    result = response['Body'].read()\n",
    "    result = result.decode(\"utf-8\")\n",
    "    result = result.split(',')\n",
    "    preds = [float((num)) for num in result]\n",
    "    preds = [math.ceil(num) for num in preds]\n",
    "    return preds\n",
    "\n",
    "def batch_predict(data, batch_size, endpoint_name, content_type):\n",
    "    items = len(data)\n",
    "    arrs = []\n",
    "    \n",
    "    for offset in range(0, items, batch_size):\n",
    "        if offset+batch_size < items:\n",
    "            results = do_predict(data[offset:(offset+batch_size)], endpoint_name, content_type)\n",
    "            arrs.extend(results)\n",
    "        else:\n",
    "            arrs.extend(do_predict(data[offset:items], endpoint_name, content_type))\n",
    "        sys.stdout.write('.')\n",
    "    return(arrs)"
   ]
  },
  {
   "cell_type": "code",
   "execution_count": 35,
   "metadata": {
    "scrolled": true
   },
   "outputs": [
    {
     "name": "stdout",
     "output_type": "stream",
     "text": [
      ".....................................................................................................................................CPU times: user 438 ms, sys: 30.8 ms, total: 469 ms\n",
      "Wall time: 2.48 s\n"
     ]
    }
   ],
   "source": [
    "%%time\n",
    "import json\n",
    "import numpy as np\n",
    "\n",
    "with open(FILE_TEST, 'r') as f:\n",
    "    payload = f.read().strip()\n",
    "\n",
    "labels = [int(line.split(' ')[0]) for line in payload.split('\\n')]\n",
    "test_data = [line for line in payload.split('\\n')]\n",
    "Y_test_predictions_ = batch_predict(test_data, 100, endpoint_name, 'text/x-libsvm')\n",
    "\n",
    "Y_test_predictions = [class_to_name(x) for x in Y_test_predictions_]"
   ]
  },
  {
   "cell_type": "code",
   "execution_count": 36,
   "metadata": {},
   "outputs": [
    {
     "name": "stdout",
     "output_type": "stream",
     "text": [
      "ROC AUC scores\n",
      "Test result: 0.9674647056215225\n",
      "Validation result: 0.9699786636659544\n"
     ]
    }
   ],
   "source": [
    "print('ROC AUC scores')\n",
    "print('Test result: {0}\\nValidation result: {1}'.format(auc_score(Y_test, Y_test_predictions),\n",
    "                                                         auc_score(Y_val, Y_val_predictions)))"
   ]
  },
  {
   "cell_type": "code",
   "execution_count": 37,
   "metadata": {},
   "outputs": [
    {
     "name": "stdout",
     "output_type": "stream",
     "text": [
      "Accuracy scores\n",
      "Test result: 0.9879390924167044\n",
      "Validation result: 0.9922357907432534\n"
     ]
    }
   ],
   "source": [
    "print('Accuracy scores')\n",
    "print('Test result: {0}\\nValidation result: {1}'.format(accuracy_score(Y_test, Y_test_predictions),\n",
    "                                                         accuracy_score(Y_val, Y_val_predictions)))"
   ]
  },
  {
   "cell_type": "markdown",
   "metadata": {},
   "source": [
    "### 刪除端點\n",
    "若以使用完端點，可以執行下列函數刪除端點"
   ]
  },
  {
   "cell_type": "code",
   "execution_count": 38,
   "metadata": {},
   "outputs": [],
   "source": [
    "#client.delete_endpoint(EndpointName=endpoint_name)"
   ]
  },
  {
   "cell_type": "markdown",
   "metadata": {},
   "source": [
    "## 將預測結果放入資料庫"
   ]
  },
  {
   "cell_type": "code",
   "execution_count": 290,
   "metadata": {
    "scrolled": true
   },
   "outputs": [],
   "source": [
    "dfs= [pd.read_csv('s3a://{}/{}'.format(bucket, file_info.key), converters=converters) \\\n",
    "      for file_info in files if file_info.key.endswith('features.csv')]\n",
    "data_pred = pd.concat(dfs, ignore_index=True).fillna('')\n"
   ]
  },
  {
   "cell_type": "code",
   "execution_count": 292,
   "metadata": {
    "scrolled": true
   },
   "outputs": [],
   "source": [
    "FILE_DEMO = 'demo.prediction'\n",
    "data_pred = data_pred.reset_index(drop = True)\n",
    "drop_for_inference = ['cycle', 'MachineID', 'CycleStart', 'CycleEnd']\n",
    "\n",
    "# y is label\n",
    "mat = pd.get_dummies(data_pred.drop(columns_to_drop, axis=1)).as_matrix()\n",
    "dump_svmlight_file(mat, np.ones(data_pred.shape[0]), FILE_DEMO)\n",
    "\n",
    "p_X = data_pred.drop(drop_for_inference, axis=1)"
   ]
  },
  {
   "cell_type": "code",
   "execution_count": 293,
   "metadata": {},
   "outputs": [
    {
     "name": "stdout",
     "output_type": "stream",
     "text": [
      "."
     ]
    }
   ],
   "source": [
    "with open(FILE_DEMO, 'r') as f:\n",
    "    payload = f.read().strip()\n",
    "\n",
    "labels = [int(line.split(' ')[0]) for line in payload.split('\\n')]\n",
    "demo_data = [line for line in payload.split('\\n')]\n",
    "p_Y_predictions_ = batch_predict(demo_data, 100, endpoint_name, 'text/x-libsvm')\n",
    "\n",
    "p_Y_predictions = [class_to_name(x) for x in p_Y_predictions_]"
   ]
  },
  {
   "cell_type": "code",
   "execution_count": 294,
   "metadata": {},
   "outputs": [],
   "source": [
    "def name_to_class_v2(s):\n",
    "    return {\n",
    "        '': '正常',\n",
    "        'F1': '異常狀況 1',\n",
    "        'F2': '異常狀況 2'\n",
    "    }[s]"
   ]
  },
  {
   "cell_type": "code",
   "execution_count": 295,
   "metadata": {},
   "outputs": [],
   "source": [
    "latest_preds = []\n",
    "for g in data_pred.groupby('MachineID'):\n",
    "    latest_pred = g[1].sort_values('cycle', ascending=False).head(1).index[0]\n",
    "    latest_preds.append(latest_pred)\n",
    "    \n",
    "def is_latest_pred(s):\n",
    "    return '_' if s in latest_preds else '_INDEX_'"
   ]
  },
  {
   "cell_type": "code",
   "execution_count": 306,
   "metadata": {},
   "outputs": [],
   "source": [
    "data_pred_ = data_pred.assign(PartitionKey=[is_latest_pred(x) for x in data_pred.index],\n",
    "                              Prediction=[name_to_class_v2(x) for x in p_Y_predictions],\n",
    "                              Timestamp=data_pred.CycleEnd.values,\n",
    "                             RowKey=data_pred.MachineID.values,\n",
    "                             MachineID=data_pred.MachineID.values)"
   ]
  },
  {
   "cell_type": "code",
   "execution_count": 307,
   "metadata": {},
   "outputs": [
    {
     "data": {
      "text/html": [
       "<div>\n",
       "<style scoped>\n",
       "    .dataframe tbody tr th:only-of-type {\n",
       "        vertical-align: middle;\n",
       "    }\n",
       "\n",
       "    .dataframe tbody tr th {\n",
       "        vertical-align: top;\n",
       "    }\n",
       "\n",
       "    .dataframe thead th {\n",
       "        text-align: right;\n",
       "    }\n",
       "</style>\n",
       "<table border=\"1\" class=\"dataframe\">\n",
       "  <thead>\n",
       "    <tr style=\"text-align: right;\">\n",
       "      <th></th>\n",
       "      <th>MachineID</th>\n",
       "      <th>cycle</th>\n",
       "      <th>s1</th>\n",
       "      <th>s2</th>\n",
       "      <th>s3</th>\n",
       "      <th>s4</th>\n",
       "      <th>s5</th>\n",
       "      <th>s6</th>\n",
       "      <th>CycleStart</th>\n",
       "      <th>CycleEnd</th>\n",
       "      <th>s7</th>\n",
       "      <th>s8</th>\n",
       "      <th>s9</th>\n",
       "      <th>s10</th>\n",
       "      <th>PartitionKey</th>\n",
       "      <th>Prediction</th>\n",
       "      <th>Timestamp</th>\n",
       "      <th>RowKey</th>\n",
       "    </tr>\n",
       "  </thead>\n",
       "  <tbody>\n",
       "    <tr>\n",
       "      <th>0</th>\n",
       "      <td>feat-4</td>\n",
       "      <td>5</td>\n",
       "      <td>1000.0</td>\n",
       "      <td>1103.334167</td>\n",
       "      <td>138.1063</td>\n",
       "      <td>138.24</td>\n",
       "      <td>1481.010067</td>\n",
       "      <td>1594.48</td>\n",
       "      <td>2018-12-21 02:53:03.752</td>\n",
       "      <td>2018-12-21 02:58:03.055</td>\n",
       "      <td>133.831306</td>\n",
       "      <td>138.151667</td>\n",
       "      <td>1404.15957</td>\n",
       "      <td>1594.445</td>\n",
       "      <td>_INDEX_</td>\n",
       "      <td>正常</td>\n",
       "      <td>2018-12-21 02:58:03.055</td>\n",
       "      <td>feat-4</td>\n",
       "    </tr>\n",
       "  </tbody>\n",
       "</table>\n",
       "</div>"
      ],
      "text/plain": [
       "  MachineID  cycle      s1           s2        s3      s4           s5  \\\n",
       "0    feat-4      5  1000.0  1103.334167  138.1063  138.24  1481.010067   \n",
       "\n",
       "        s6               CycleStart                 CycleEnd          s7  \\\n",
       "0  1594.48  2018-12-21 02:53:03.752  2018-12-21 02:58:03.055  133.831306   \n",
       "\n",
       "           s8          s9       s10 PartitionKey Prediction  \\\n",
       "0  138.151667  1404.15957  1594.445      _INDEX_         正常   \n",
       "\n",
       "                 Timestamp  RowKey  \n",
       "0  2018-12-21 02:58:03.055  feat-4  "
      ]
     },
     "execution_count": 307,
     "metadata": {},
     "output_type": "execute_result"
    }
   ],
   "source": [
    "data_pred_.head(1)"
   ]
  },
  {
   "cell_type": "code",
   "execution_count": 273,
   "metadata": {},
   "outputs": [],
   "source": [
    "import boto3\n",
    "db_client = boto3.client('dynamodb')\n",
    "table_name = 'predictions'\n",
    "attributes = [  \n",
    "        {'AttributeName':'PartitionKey', 'AttributeType':'S'},\n",
    "        {'AttributeName':'Timestamp', 'AttributeType':'S'}\n",
    "    ]\n",
    "key_schema = [\n",
    "    {'AttributeName':'PartitionKey', 'KeyType':'HASH'},\n",
    "    {'AttributeName':'Timestamp', 'KeyType':'RANGE'}\n",
    "]\n",
    "\n",
    "if table_name not in db_client.list_tables()['TableNames']:\n",
    "    db_client.create_table(\n",
    "            TableName=table_name, \n",
    "            AttributeDefinitions=attributes,\n",
    "            KeySchema=key_schema,\n",
    "            BillingMode='PAY_PER_REQUEST'\n",
    "        )\n",
    "    time.sleep(3)\n",
    "else:\n",
    "    pass\n",
    "\n",
    "while True:\n",
    "    try:\n",
    "        table_status = db_client.describe_table(TableName=table_name)['Table']['TableStatus']\n",
    "        if table_status == 'ACTIVE':\n",
    "            break\n",
    "    except:\n",
    "        time.sleep(1)\n"
   ]
  },
  {
   "cell_type": "markdown",
   "metadata": {},
   "source": [
    "將預測結果放入 DynamoDB"
   ]
  },
  {
   "cell_type": "code",
   "execution_count": 304,
   "metadata": {},
   "outputs": [],
   "source": [
    "for index, row in data_pred_.iterrows():\n",
    "    entity = {\n",
    "        'PartitionKey': {'S': str(row['PartitionKey'])},\n",
    "        'Prediction': {'S': str(row['Prediction'])},\n",
    "        'Timestamp': {'S': str(row['CycleEnd'])},\n",
    "        'RowKey': {'S': str(row['RowKey'])},\n",
    "        'MachineID': {'S': str(row['MachineID'])}\n",
    "    }\n",
    "    db_client.put_item(TableName=table_name, Item=entity)"
   ]
  },
  {
   "cell_type": "markdown",
   "metadata": {},
   "source": [
    "將 cycle 資料放入 DynamoDB"
   ]
  },
  {
   "cell_type": "code",
   "execution_count": 308,
   "metadata": {},
   "outputs": [],
   "source": [
    "import boto3\n",
    "db_client = boto3.client('dynamodb')\n",
    "CYCLE_TABLE = 'cycles'\n",
    "attributes = [  \n",
    "        {'AttributeName':'MachineID', 'AttributeType':'S'},\n",
    "        {'AttributeName':'Timestamp', 'AttributeType':'S'}\n",
    "    ]\n",
    "key_schema = [\n",
    "    {'AttributeName':'MachineID', 'KeyType':'HASH'},\n",
    "    {'AttributeName':'Timestamp', 'KeyType':'RANGE'}\n",
    "]\n",
    "\n",
    "if CYCLE_TABLE not in db_client.list_tables()['TableNames']:\n",
    "    db_client.create_table(\n",
    "            TableName=CYCLE_TABLE, \n",
    "            AttributeDefinitions=attributes,\n",
    "            KeySchema=key_schema,\n",
    "            BillingMode='PAY_PER_REQUEST'\n",
    "        )\n",
    "    time.sleep(3)\n",
    "else:\n",
    "    pass\n",
    "\n",
    "while True:\n",
    "    try:\n",
    "        table_status = db_client.describe_table(TableName=CYCLE_TABLE)['Table']['TableStatus']\n",
    "        if table_status == 'ACTIVE':\n",
    "            break\n",
    "    except:\n",
    "        time.sleep(1)\n"
   ]
  },
  {
   "cell_type": "code",
   "execution_count": 312,
   "metadata": {},
   "outputs": [],
   "source": [
    "for index, row in data_pred_.iterrows():\n",
    "    entity = {\n",
    "        'MachineID': {'S': str(row['MachineID'])},\n",
    "        'CycleStart': {'S': str(row['CycleStart'])},\n",
    "        'Timestamp': {'S': str(row['CycleEnd'])},\n",
    "        'SpeedDesiredMax': {'S': str(row['s1'])},\n",
    "        'SpeedAvg': {'S': str(row['s2'])},\n",
    "        'TemperatureAvg': {'S': str(row['s3'])},\n",
    "        'TemperatureMax': {'S': str(row['s4'])},\n",
    "        'PressureAvg': {'S': str(row['s5'])},\n",
    "        'PressureMax': {'S': str(row['s6'])},\n",
    "        'TemperatureAvgAvg': {'S': str(row['s7'])},\n",
    "        'TemperatureMaxAvg': {'S': str(row['s8'])},\n",
    "        'PressureAvgAvg': {'S': str(row['s9'])},\n",
    "        'PressureAvgAvg': {'S': str(row['s10'])},\n",
    "    }\n",
    "    db_client.put_item(TableName=CYCLE_TABLE, Item=entity)"
   ]
  }
 ],
 "metadata": {
  "anaconda-cloud": {},
  "kernelspec": {
   "display_name": "conda_python3",
   "language": "python",
   "name": "conda_python3"
  },
  "language_info": {
   "codemirror_mode": {
    "name": "ipython",
    "version": 3
   },
   "file_extension": ".py",
   "mimetype": "text/x-python",
   "name": "python",
   "nbconvert_exporter": "python",
   "pygments_lexer": "ipython3",
   "version": "3.6.5"
  }
 },
 "nbformat": 4,
 "nbformat_minor": 2
}
